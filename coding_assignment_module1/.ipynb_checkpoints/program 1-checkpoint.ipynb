{
 "cells": [
  {
   "cell_type": "code",
   "execution_count": 20,
   "metadata": {},
   "outputs": [
    {
     "name": "stdout",
     "output_type": "stream",
     "text": [
      "Enter the sequence of comma seperated numbers1,2,3,9,7,5\n",
      "[1, 2, 3, 9, 7, 5]\n",
      "(1, 2, 3, 9, 7, 5)\n"
     ]
    }
   ],
   "source": [
    "list=[]\n",
    "a=input(\"Enter the sequence of comma seperated numbers\").split(\",\")\n",
    "for i in a:\n",
    "        list.append(int(i))\n",
    "print(list)\n",
    "print(tuple(list))\n",
    "    \n",
    "    "
   ]
  },
  {
   "cell_type": "code",
   "execution_count": null,
   "metadata": {},
   "outputs": [],
   "source": []
  }
 ],
 "metadata": {
  "kernelspec": {
   "display_name": "Python 3",
   "language": "python",
   "name": "python3"
  },
  "language_info": {
   "codemirror_mode": {
    "name": "ipython",
    "version": 3
   },
   "file_extension": ".py",
   "mimetype": "text/x-python",
   "name": "python",
   "nbconvert_exporter": "python",
   "pygments_lexer": "ipython3",
   "version": "3.6.5"
  }
 },
 "nbformat": 4,
 "nbformat_minor": 2
}
