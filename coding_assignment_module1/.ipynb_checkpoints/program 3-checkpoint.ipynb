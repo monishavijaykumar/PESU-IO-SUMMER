{
 "cells": [
  {
   "cell_type": "code",
   "execution_count": 23,
   "metadata": {},
   "outputs": [
    {
     "name": "stdout",
     "output_type": "stream",
     "text": [
      "Enter the numbers1 10 9 3 2 5 7 18\n",
      "Enter the number to be searched10\n",
      "The given number is present in the list\n"
     ]
    }
   ],
   "source": [
    "list=[]\n",
    "a=input(\"Enter the numbers\").split(\" \")\n",
    "key=int(input(\"Enter the number to be searched\"))\n",
    "for i in a:\n",
    "    list.append(int(i))\n",
    "list.sort()\n",
    "low=0\n",
    "high=(len(list)-1)\n",
    "found=0\n",
    "while low<=high and found==0:\n",
    "    mid=int((low+high)/2)\n",
    "    if(list[mid]==key):\n",
    "        found=1\n",
    "        print(\"The given number is present in the list\")\n",
    "    elif(key<list[mid]):\n",
    "        high=mid-1\n",
    "    else:\n",
    "        low=mid+1\n",
    "if(found==0):\n",
    "    print(\"The given number is not present in the list\")"
   ]
  },
  {
   "cell_type": "code",
   "execution_count": null,
   "metadata": {},
   "outputs": [],
   "source": []
  }
 ],
 "metadata": {
  "kernelspec": {
   "display_name": "Python 3",
   "language": "python",
   "name": "python3"
  },
  "language_info": {
   "codemirror_mode": {
    "name": "ipython",
    "version": 3
   },
   "file_extension": ".py",
   "mimetype": "text/x-python",
   "name": "python",
   "nbconvert_exporter": "python",
   "pygments_lexer": "ipython3",
   "version": "3.6.5"
  }
 },
 "nbformat": 4,
 "nbformat_minor": 2
}
